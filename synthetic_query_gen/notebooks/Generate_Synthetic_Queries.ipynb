{
 "cells": [
  {
   "cell_type": "code",
   "execution_count": 2,
   "metadata": {},
   "outputs": [],
   "source": [
    "import numpy as np\n",
    "import pandas as pd\n",
    "import random "
   ]
  },
  {
   "cell_type": "code",
   "execution_count": 3,
   "metadata": {},
   "outputs": [],
   "source": [
    "def generate_gender_critiera(docset):\n",
    "    male_terms = [\"man\", \"men\", \"male\", \"boy\", \"boys\"]\n",
    "    female_terms = [\"woman\", \"women\", \"female\", \"girl\", \"girls\", \"pregnant\", \"menopausal\", \"postmenopausal\"]\n",
    "    \n",
    "    # need conditional logic for {male; female; both} and termset\n",
    "    "
   ]
  },
  {
   "cell_type": "code",
   "execution_count": 72,
   "metadata": {},
   "outputs": [],
   "source": [
    "def generate_age_critiera(docset, min_age=0, max_age=100, comparator=\">=\", target_value=18):\n",
    "    \n",
    "    age_nlpql = \"\"\"\n",
    "    termset AgeTerms:\n",
    "       [\"age\",\"aged\"];\n",
    "\n",
    "    define Age:\n",
    "       Clarity.ValueExtraction({\n",
    "         termset:[AgeTerms],\n",
    "         documentset: [%s],\n",
    "         minimum_value: \"%d\",\n",
    "         maximum_value: \"%d\"\n",
    "         });\n",
    "\n",
    "    define final meetsAgeCriteria:\n",
    "        where Age.value %s %d;\"\"\" % (docset, min_age, max_age, comparator, target_value)\n",
    "    \n",
    "    return age_nlpql"
   ]
  },
  {
   "cell_type": "code",
   "execution_count": 73,
   "metadata": {},
   "outputs": [],
   "source": [
    "def generate_race_critiera(docset):\n",
    "    \n",
    "    race_nlpql =  \"\"\"define RaceFinderFunction:\n",
    "    Clarity.RaceFinderTask({\n",
    "        documentset: [%s]\n",
    "    })\"\"\" % docset\n",
    "    \n",
    "    return race_nlpql\n"
   ]
  },
  {
   "cell_type": "code",
   "execution_count": 74,
   "metadata": {},
   "outputs": [],
   "source": [
    "def generate_location_critiera(docset):\n",
    "    pass"
   ]
  },
  {
   "cell_type": "code",
   "execution_count": 75,
   "metadata": {},
   "outputs": [],
   "source": [
    "def generate_medication_criteria(docset):\n",
    "    pass"
   ]
  },
  {
   "cell_type": "code",
   "execution_count": 76,
   "metadata": {},
   "outputs": [],
   "source": [
    "def generate_condition_criteria(docset):\n",
    "    pass"
   ]
  },
  {
   "cell_type": "code",
   "execution_count": 77,
   "metadata": {},
   "outputs": [
    {
     "ename": "TypeError",
     "evalue": "not all arguments converted during string formatting",
     "output_type": "error",
     "traceback": [
      "\u001b[0;31m---------------------------------------------------------------------------\u001b[0m",
      "\u001b[0;31mTypeError\u001b[0m                                 Traceback (most recent call last)",
      "\u001b[0;32m<ipython-input-77-99a501750d6e>\u001b[0m in \u001b[0;36m<module>\u001b[0;34m()\u001b[0m\n\u001b[1;32m     64\u001b[0m        \u001b[0mmedications_criteria\u001b[0m\u001b[0;34m,\u001b[0m\u001b[0;34m\u001b[0m\u001b[0m\n\u001b[1;32m     65\u001b[0m        \u001b[0mgenerate_race_critiera\u001b[0m\u001b[0;34m(\u001b[0m\u001b[0mdocset_name\u001b[0m\u001b[0;34m)\u001b[0m\u001b[0;34m,\u001b[0m\u001b[0;34m\u001b[0m\u001b[0m\n\u001b[0;32m---> 66\u001b[0;31m        docset_name) \n\u001b[0m",
      "\u001b[0;31mTypeError\u001b[0m: not all arguments converted during string formatting"
     ]
    }
   ],
   "source": [
    "# need a way to gracefully handle empty strings OR paramterize the list of termsets we actually evaluate\n",
    "gender_criteria = \"\"\"termset Gender: [];\"\"\"\n",
    "age_criteria =  \"\"\"termset Age: [];\"\"\"\n",
    "location_criteria =   \"\"\"termset Location: [];\"\"\"\n",
    "conditions_criteria =  \"\"\"termset Condtions: [];\"\"\"\n",
    "medications_criteria =   \"\"\"termset Medications: [];\"\"\"\n",
    "\n",
    "docset_name = \"PotentiallyEligiblePatientsNotes\"\n",
    "\n",
    "synthetic_query_template =\"\"\"\n",
    "\n",
    "// Phenotype library name\n",
    "phenotype \"Synthetic Query\" version \"1\";\n",
    "\n",
    "/* Phenotype library description */\n",
    "description \"Synthetically generated, paramaterized query; for computing benchark runtime stats\";\n",
    "\n",
    "// # Structured Data Model #\n",
    "datamodel OMOP version \"5.3\";\n",
    "\n",
    "// # Referenced libraries #\n",
    "// The ClarityCore library provides common functions for simplifying NLP pipeline creation\n",
    "include ClarityCore version \"1.0\" called Clarity;\n",
    "include OHDSIHelpers version \"1.0\" called OHDSI;\n",
    "\n",
    "// ## Code Systems ##\n",
    "codesystem OMOP: \"http://omop.org\"; // OMOP vocabulary https://github.com/OHDSI/Vocabulary-v5.0;\n",
    "\n",
    "\n",
    "// #Manual Term sets#\n",
    "// simple example-- termset \"Vegetables\":[\"brocolli\",\"carrots\",\"cauliflower\"]\n",
    "// can add expansion of structured concepts from terminologies as well with OMOPHelpers\n",
    "\n",
    "documentset %s:\n",
    "    Clarity.createReportTagList([\"Physician\",\"Nurse\",\"Note\",\"Discharge Summary\"]); \n",
    "\n",
    "// Gender inclusion criteria termset, if gender criteria present\n",
    "%s\n",
    "\n",
    "// Age inclusion value extraction task, if age criteria present\n",
    "%s\n",
    "\n",
    "// Location inclusion criteria termset, if location criteria present\n",
    "%s\n",
    "\n",
    "// Condition(s) inclusion criteria termset, if condition criteria present\n",
    "%s\n",
    "\n",
    "// Medication(s) inclusion criteria termset, if medication criteria present\n",
    "%s\n",
    "\n",
    "\n",
    "define final isEligiblePatient:\n",
    "  Clarity.ProviderAssertion({\n",
    "    termset: [], #fix this\n",
    "    documentset: [] #fix this\n",
    "});\n",
    "\n",
    "\"\"\" % (docset_name, \n",
    "       gender_criteria,\n",
    "       generate_age_critiera(docset_name),\n",
    "       location_criteria, \n",
    "       conditions_criteria, \n",
    "       medications_criteria, \n",
    "       generate_race_critiera(docset_name),\n",
    "       docset_name) \n"
   ]
  },
  {
   "cell_type": "code",
   "execution_count": null,
   "metadata": {},
   "outputs": [],
   "source": []
  },
  {
   "cell_type": "code",
   "execution_count": null,
   "metadata": {},
   "outputs": [],
   "source": []
  },
  {
   "cell_type": "code",
   "execution_count": null,
   "metadata": {},
   "outputs": [],
   "source": []
  }
 ],
 "metadata": {
  "kernelspec": {
   "display_name": "Python 3",
   "language": "python",
   "name": "python3"
  },
  "language_info": {
   "codemirror_mode": {
    "name": "ipython",
    "version": 3
   },
   "file_extension": ".py",
   "mimetype": "text/x-python",
   "name": "python",
   "nbconvert_exporter": "python",
   "pygments_lexer": "ipython3",
   "version": "3.5.2"
  }
 },
 "nbformat": 4,
 "nbformat_minor": 2
}

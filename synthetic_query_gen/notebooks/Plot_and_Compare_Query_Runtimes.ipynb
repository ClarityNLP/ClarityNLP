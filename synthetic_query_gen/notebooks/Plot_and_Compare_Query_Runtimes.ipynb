{
 "cells": [
  {
   "cell_type": "code",
   "execution_count": 1,
   "metadata": {},
   "outputs": [],
   "source": [
    "%matplotlib inline\n",
    "import pandas as pd\n",
    "import numpy as np\n",
    "import matplotlib.pyplot as plt\n",
    "import seaborn as sns\n",
    "import psycopg2\n",
    "from config import config\n",
    "from collections import OrderedDict"
   ]
  },
  {
   "cell_type": "code",
   "execution_count": 22,
   "metadata": {},
   "outputs": [],
   "source": [
    "get_runtime_stats = '''SELECT nj.nlp_job_id, nj.name, nj.spl[1] as job_type, nj.spl[3] as job_index, nj.status, nj.date_started, nj.date_ended,\n",
    "  case when nj.date_ended is not null then EXTRACT(MINUTE from (nj.date_ended - nj.date_started)) else 0 end as total_minutes,\n",
    "  case when c.description = '0' then f.description else c.description end as feature_count,\n",
    "  case when d.description  = '0' then  g.description else d.description end as patient_count,\n",
    "  a.description as luigi_workers,\n",
    "  b.description as batch_size,\n",
    "  e.description as memory_caching\n",
    "\n",
    "from (select *, regexp_split_to_array(name, '_') as spl from nlp.nlp_job) as nj\n",
    "left JOIN nlp.nlp_job_status a on nj.nlp_job_id = a.nlp_job_id and a.status = 'PROPERTIES_LUIGI_WORKERS'\n",
    "left JOIN nlp.nlp_job_status b on nj.nlp_job_id = b.nlp_job_id and b.status = 'PROPERTIES_BATCH_SIZE'\n",
    "left JOIN nlp.nlp_job_status c on nj.nlp_job_id = c.nlp_job_id and c.status = 'STATS_FINAL_RESULTS'\n",
    "left JOIN nlp.nlp_job_status d on nj.nlp_job_id = d.nlp_job_id and d.status = 'STATS_FINAL_SUBJECTS'\n",
    "left JOIN nlp.nlp_job_status e on nj.nlp_job_id = e.nlp_job_id and e.status = 'PROPERTIES_USE_MEMORY_CACHING'\n",
    "left JOIN nlp.nlp_job_status f on nj.nlp_job_id = f.nlp_job_id and f.status = 'STATS_INTERMEDIATE_RESULTS'\n",
    "left JOIN nlp.nlp_job_status g on nj.nlp_job_id = g.nlp_job_id and g.status = 'STATS_INTERMEDIATE_SUBJECTS'\n",
    "order by nj.nlp_job_id;\n",
    "'''"
   ]
  },
  {
   "cell_type": "code",
   "execution_count": 23,
   "metadata": {},
   "outputs": [],
   "source": [
    "def connect():\n",
    "    \"\"\" Connect to the PostgreSQL database server \"\"\"\n",
    "    conn = None\n",
    "    try:\n",
    "        # read connection parameters\n",
    "        params = config(filename='./clarity_pg.ini')\n",
    " \n",
    "        # connect to the PostgreSQL server\n",
    "        print('Connecting to the PostgreSQL database...')\n",
    "        conn = psycopg2.connect(**params)\n",
    " \n",
    "        # create a cursor\n",
    "        cur = conn.cursor()\n",
    "        \n",
    "         # execute a statement\n",
    "        print('PostgreSQL database version:')\n",
    "        cur.execute(get_runtime_stats)\n",
    " \n",
    "        # display the PostgreSQL database server version\n",
    "        db_version = cur.fetchone()\n",
    "        print(db_version)\n",
    "       \n",
    "         # close the communication with the PostgreSQL\n",
    "        cur.close()\n",
    "    except (Exception, psycopg2.DatabaseError) as error:\n",
    "        print(error)\n",
    "    finally:\n",
    "        if conn is not None:\n",
    "            conn.close()\n",
    "            print('Database connection closed.')\n",
    "            \n",
    "def run_query(query_str):\n",
    "    \"\"\" Connect to the PostgreSQL database server \"\"\"\n",
    "    conn = None\n",
    "    try:\n",
    "        # read connection parameters\n",
    "        params = config(filename='./clarity_pg.ini')\n",
    " \n",
    "        # connect to the PostgreSQL server\n",
    "        #print('Connecting to the PostgreSQL database...')\n",
    "        conn = psycopg2.connect(**params)\n",
    " \n",
    "        # create a cursor\n",
    "        cur = conn.cursor()\n",
    "        \n",
    "        # execute stats collection query \n",
    "        cur.execute(query_str)\n",
    "\n",
    "        df = pd.read_sql(query_str, conn)\n",
    "\n",
    "         # close the communication with the PostgreSQL\n",
    "        cur.close()\n",
    "    except (Exception, psycopg2.DatabaseError) as error:\n",
    "        print(error)\n",
    "    finally:\n",
    "        if conn is not None:\n",
    "            conn.close()\n",
    "            #print('Database connection closed.')\n",
    "            \n",
    "    return df\n",
    "            \n",
    "\n",
    "if __name__ == '__main__':\n",
    "    #connect()\n",
    "    results = run_query(get_runtime_stats)"
   ]
  },
  {
   "cell_type": "code",
   "execution_count": 259,
   "metadata": {},
   "outputs": [],
   "source": [
    "def assign_config_labels(resultsdf):\n",
    "    \n",
    "    resultsdf['config_label'] = np.nan\n",
    "    resultsdf['duration'] = np.nan\n",
    "    \n",
    "    for i, row in resultsdf.iterrows():\n",
    "        \n",
    "        if row['luigi_workers'] is None or row['memory_caching'] is None or row['status'] != \"COMPLETED\":\n",
    "            continue\n",
    "        \n",
    "        # BASELINE CONFIGURATION:\n",
    "        elif int(row['luigi_workers']) == 1 and row['memory_caching'] == \"false\":\n",
    "        \n",
    "            resultsdf.loc[i, 'config_label'] = 'baseline'\n",
    "            resultsdf.loc[i, 'duration'] = row['date_ended'] - row['date_started']\n",
    "            \n",
    "    return resultsdf\n",
    "        \n",
    "        "
   ]
  },
  {
   "cell_type": "code",
   "execution_count": 296,
   "metadata": {},
   "outputs": [],
   "source": [
    "def generate_df_for_violin_plots(resultsdf, N_OPTIMIZATIONS=2, N_SYNTH_QUERIES=1000):\n",
    "    \n",
    "    results = resultsdf.dropna()\n",
    "    \n",
    "    print(results.shape)\n",
    "    print(results.head())\n",
    "    \n",
    "    configs = OrderedDict()\n",
    "    results_set = OrderedDict()\n",
    "    \n",
    "    for i in range(len(results['config_label'].unique())):\n",
    "        configs[i] = np.unique(results['config_label'])[i]\n",
    "\n",
    "    N_CONFIGS = len(configs.keys())\n",
    "\n",
    "    for i in range(N_CONFIGS):\n",
    "\n",
    "        results_set[i] = {\"name\":configs[i], \n",
    "                      \"opt_vec\": np.array([np.random.randint(0,2,1) for i in range(N_OPTIMIZATIONS)]), \n",
    "                      \"query_runtimes\": np.array(results.loc[results['config_label']== configs[i], 'duration'])}\n",
    "                      #\"query_runtimes\": np.array([np.random.randint(1,10*(i+1),1) for x in range(N_SYNTH_QUERIES)])}\n",
    "\n",
    "    return results_set, configs"
   ]
  },
  {
   "cell_type": "code",
   "execution_count": 297,
   "metadata": {},
   "outputs": [
    {
     "name": "stdout",
     "output_type": "stream",
     "text": [
      "(70, 15)\n",
      "(68, 15)\n"
     ]
    }
   ],
   "source": [
    "print(results.shape)\n",
    "results.head()\n",
    "\n",
    "temp = results.loc[results['status']==\"COMPLETED\"]\n",
    "print(temp.shape)\n",
    "\n"
   ]
  },
  {
   "cell_type": "code",
   "execution_count": 262,
   "metadata": {},
   "outputs": [],
   "source": [
    "#for col in results.columns:\n",
    "    #print(col, results[col].unique())\n",
    "    #print(\"\\n\")\n",
    "   "
   ]
  },
  {
   "cell_type": "code",
   "execution_count": 303,
   "metadata": {},
   "outputs": [
    {
     "name": "stdout",
     "output_type": "stream",
     "text": [
      "(68, 15)\n",
      "   nlp_job_id                        name        job_type job_index  \\\n",
      "0         648  SyntheticQuery_WithLimit_0  SyntheticQuery         0   \n",
      "1         649  SyntheticQuery_WithLimit_1  SyntheticQuery         1   \n",
      "2         650  SyntheticQuery_WithLimit_2  SyntheticQuery         2   \n",
      "3         651  SyntheticQuery_WithLimit_3  SyntheticQuery         3   \n",
      "4         652  SyntheticQuery_WithLimit_4  SyntheticQuery         4   \n",
      "\n",
      "      status               date_started                 date_ended  \\\n",
      "0  COMPLETED 2018-12-03 13:58:54.154990 2018-12-03 14:26:45.137088   \n",
      "1  COMPLETED 2018-12-03 14:26:56.112970 2018-12-03 14:54:37.494931   \n",
      "2  COMPLETED 2018-12-03 14:54:43.032460 2018-12-03 15:09:12.791171   \n",
      "3  COMPLETED 2018-12-03 15:09:14.078871 2018-12-03 15:25:52.935522   \n",
      "4  COMPLETED 2018-12-03 15:26:00.265039 2018-12-03 15:38:33.611983   \n",
      "\n",
      "   total_minutes feature_count patient_count luigi_workers batch_size  \\\n",
      "0           27.0          4045          1344             1        100   \n",
      "1           27.0          4357          1110             1        100   \n",
      "2           14.0          2213           824             1        100   \n",
      "3           16.0          1399           914             1        100   \n",
      "4           12.0          1975           787             1        100   \n",
      "\n",
      "  memory_caching config_label                duration  \n",
      "0          false     baseline  0 days 00:27:50.982098  \n",
      "1          false     baseline  0 days 00:27:41.381961  \n",
      "2          false     baseline  0 days 00:14:29.758711  \n",
      "3          false     baseline  0 days 00:16:38.856651  \n",
      "4          false     baseline  0 days 00:12:33.346944  \n",
      "1\n"
     ]
    }
   ],
   "source": [
    "out = assign_config_labels(results)\n",
    "resset, configs = generate_df_for_violin_plots(out) \n"
   ]
  },
  {
   "cell_type": "code",
   "execution_count": 264,
   "metadata": {},
   "outputs": [],
   "source": [
    "# results_set = OrderedDict()\n",
    "# N_CONFIGS = 1\n",
    "# N_OPTIMIZATIONS = 5\n",
    "# N_SYNTH_QUERIES = 1000\n",
    "\n",
    "# for i in range(N_CONFIGS):\n",
    "    \n",
    "#     results_set[i] = {\"name\":\"config_{}\".format(i), \n",
    "#                       \"opt_vec\": np.array([np.random.randint(0,2,1) for i in range(N_OPTIMIZATIONS)]), \n",
    "#                       \"query_runtimes\": np.array([[np.random.randint(1,10*(i+1),1) for x in range(N_SYNTH_QUERIES)])}\n"
   ]
  },
  {
   "cell_type": "code",
   "execution_count": 299,
   "metadata": {},
   "outputs": [
    {
     "name": "stdout",
     "output_type": "stream",
     "text": [
      "0 days 00:43:00.148382 0 days 01:40:51.378582\n"
     ]
    }
   ],
   "source": [
    "N_CONFIGS = 1\n",
    "N_OPTIMIZATIONS = 2\n",
    "N_SYNTH_QUERIES = 68\n",
    "\n",
    "def create_config_df(single_results_set, config_num):\n",
    "    resdf = pd.DataFrame(index = [i for i in range(N_SYNTH_QUERIES)])\n",
    "    resdf['config'] = config_num\n",
    "    \n",
    "    for i in range(N_OPTIMIZATIONS):\n",
    "        resdf.loc[:,'opt_{}'.format(i)] = single_results_set['opt_vec'][i]\n",
    "    \n",
    "    resdf.loc[:, 'runtime'] = single_results_set['query_runtimes']\n",
    "    return resdf\n",
    "\n",
    "resdf = create_config_df(resset[0], 0) \n",
    "print(resset[0]['query_runtimes'].mean(), resset[0]['query_runtimes'].max())\n"
   ]
  },
  {
   "cell_type": "code",
   "execution_count": 304,
   "metadata": {},
   "outputs": [],
   "source": [
    "def plot_syn_query_runtimes_by_config(results_set, configs):\n",
    "    \n",
    "    names = [results_set[i]['name'] for i in results_set.keys()]\n",
    "    resdf = pd.DataFrame(index = [i for i in range(N_SYNTH_QUERIES)])\n",
    "    \n",
    "    for i in range(N_CONFIGS):\n",
    "        resdf[configs[i]] = [x.total_seconds()*(1/60) for x in results_set[i]['query_runtimes']]\n",
    "\n",
    "    fig_dims = (10, 7)\n",
    "    fig, ax = plt.subplots(figsize=fig_dims)\n",
    "    ax = sns.violinplot(data = resdf, inner=\"quartile\", palette=\"Spectral\") #inner=\"stick\"\n",
    "    ax.set(xlabel='ClarityNLP Platform Configurations', ylabel='Synthetic Query Runtimes (minutes)')\n",
    "    ax.set(title=\n",
    "           \"Distribution of Synthetic Query Runtimes for Different Combinations of Optimizations \\n \\\n",
    "           (n_queries = {}; dashed lines represent quartiles)\".format(N_SYNTH_QUERIES))\n",
    "    \n",
    "    "
   ]
  },
  {
   "cell_type": "code",
   "execution_count": 305,
   "metadata": {},
   "outputs": [
    {
     "data": {
      "image/png": "[encoded data removed]",
      "text/plain": [
       "<Figure size 720x504 with 1 Axes>"
      ]
     },
     "metadata": {
      "needs_background": "light"
     },
     "output_type": "display_data"
    }
   ],
   "source": [
    "plot_syn_query_runtimes_by_config(resset, configs)\n",
    "\n"
   ]
  },
  {
   "cell_type": "code",
   "execution_count": 316,
   "metadata": {},
   "outputs": [
    {
     "name": "stdout",
     "output_type": "stream",
     "text": [
      "   config  opt_0  opt_1         runtime\n",
      "0       0      0      0 00:27:50.982098\n",
      "1       0      0      0 00:27:41.381961\n",
      "2       0      0      0 00:14:29.758711\n",
      "3       0      0      0 00:16:38.856651\n",
      "4       0      0      0 00:12:33.346944\n"
     ]
    }
   ],
   "source": [
    "def plot_predicted_runtime_as_function_of_opt_vector(results_set):\n",
    "    \n",
    "    resdf = pd.DataFrame(index = [i for i in range(N_SYNTH_QUERIES*N_CONFIGS)])\n",
    "    \n",
    "    for i in results_set.keys():\n",
    "        \n",
    "        tempdf = create_config_df(results_set[i], i)\n",
    "        \n",
    "        if resdf.empty:\n",
    "            resdf = tempdf\n",
    "        else:\n",
    "            resdf = resdf.append(tempdf)\n",
    "    print(resdf.head())\n",
    "\n",
    "plot_predicted_runtime_as_function_of_opt_vector(resset) \n"
   ]
  },
  {
   "cell_type": "code",
   "execution_count": 317,
   "metadata": {},
   "outputs": [
    {
     "name": "stdout",
     "output_type": "stream",
     "text": [
      "   config  opt_0  opt_1         runtime\n",
      "0       0      0      0 00:27:50.982098\n",
      "1       0      0      0 00:27:41.381961\n",
      "2       0      0      0 00:14:29.758711\n",
      "3       0      0      0 00:16:38.856651\n",
      "4       0      0      0 00:12:33.346944\n"
     ]
    }
   ],
   "source": [
    "plot_predicted_runtime_as_function_of_opt_vector(resset)\n"
   ]
  },
  {
   "cell_type": "code",
   "execution_count": null,
   "metadata": {},
   "outputs": [],
   "source": []
  }
 ],
 "metadata": {
  "kernelspec": {
   "display_name": "cs8803 py3.7",
   "language": "python",
   "name": "cs8803"
  },
  "language_info": {
   "codemirror_mode": {
    "name": "ipython",
    "version": 3
   },
   "file_extension": ".py",
   "mimetype": "text/x-python",
   "name": "python",
   "nbconvert_exporter": "python",
   "pygments_lexer": "ipython3",
   "version": "3.7.0"
  }
 },
 "nbformat": 4,
 "nbformat_minor": 2
}

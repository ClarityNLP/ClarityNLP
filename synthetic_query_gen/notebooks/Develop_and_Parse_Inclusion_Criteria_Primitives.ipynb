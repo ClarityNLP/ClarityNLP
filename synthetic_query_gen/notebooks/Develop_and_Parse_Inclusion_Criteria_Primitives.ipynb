{
 "cells": [
  {
   "cell_type": "code",
   "execution_count": 201,
   "metadata": {},
   "outputs": [],
   "source": [
    "%matplotlib inline\n",
    "import pandas as pd\n",
    "import numpy as np\n",
    "import gensim \n",
    "import sys\n",
    "from parse import *\n",
    "from prep_data import read_aact\n",
    "import re\n",
    "from collections import OrderedDict\n",
    "import numpy as np"
   ]
  },
  {
   "cell_type": "code",
   "execution_count": 202,
   "metadata": {},
   "outputs": [],
   "source": [
    "# Christine: gender; location; medication\n",
    "# Charity: age; race; condition"
   ]
  },
  {
   "cell_type": "markdown",
   "metadata": {},
   "source": [
    "### Approach 1:\n",
    "\n",
    "Leverages regexes (modified from `nlp.custom_tasks.RaceFinderTask`)"
   ]
  },
  {
   "cell_type": "code",
   "execution_count": 203,
   "metadata": {},
   "outputs": [],
   "source": [
    "def compile_gender_regex():\n",
    "    \n",
    "    str_sep = r'(\\s-\\s|-\\s|\\s-|\\s)'\n",
    "    str_word = r'\\b[-a-z.\\d]+'\n",
    "    str_punct = r'[,.\\s]*'\n",
    "    str_words = r'(' + str_word + str_punct + r'){0,6}'\n",
    "    str_category = r'\\b(woman|women|female|girl'                      +\\\n",
    "               r'man|men|male|boy)'\n",
    "    \n",
    "    str_gender1 = r'(\\brace:?\\s*)' + r'(?P<category>' + str_category + r')'\n",
    "    regex_gender1 = re.compile(str_gender1, re.IGNORECASE)\n",
    "    str_gender2 = r'(?P<category>' + str_category + r')' + str_punct    +\\\n",
    "            str_words \n",
    "    regex_gender2 = re.compile(str_gender2, re.IGNORECASE)\n",
    "    str_gender3 =  str_punct + str_words + r'(?P<category>' +\\\n",
    "            str_category + r')'\n",
    "    regex_gender3 = re.compile(str_gender3, re.IGNORECASE)\n",
    "    REGEXES = [regex_gender1, regex_gender2, regex_gender3]\n",
    "\n",
    "    return REGEXES\n",
    "     "
   ]
  },
  {
   "cell_type": "code",
   "execution_count": 226,
   "metadata": {},
   "outputs": [
    {
     "data": {
      "text/plain": [
       "(0, 12, 25, 'men')"
      ]
     },
     "execution_count": 226,
     "metadata": {},
     "output_type": "execute_result"
    }
   ],
   "source": [
    "def find_gender(gender_regexes, sentence_list):\n",
    "\n",
    "    result_list = []\n",
    "\n",
    "    found_match = False\n",
    "    for i in range(len(sentence_list)):\n",
    "        s = sentence_list[i]\n",
    "        for regex in gender_regexes:\n",
    "            match = regex.search(s)\n",
    "            if match:\n",
    "                match_text = match.group('category')\n",
    "        \n",
    "                start = match.start()\n",
    "                end   = match.end()\n",
    "                result = (i, start, end, match_text)\n",
    "                result_list.append(result)\n",
    "                found_match = True\n",
    "\n",
    "    if len(result_list) > 0:\n",
    "        return result_list[0]\n",
    "    else:\n",
    "        return ''\n",
    "\n",
    "\n",
    "gender_regexes = compile_gender_regex()\n",
    "find_gender(gender_regexes, [\"15 year old men and women\"])"
   ]
  },
  {
   "cell_type": "markdown",
   "metadata": {},
   "source": [
    "### Approach 2:\n",
    "\n",
    "Leverages substring search "
   ]
  },
  {
   "cell_type": "code",
   "execution_count": 231,
   "metadata": {},
   "outputs": [
    {
     "data": {
      "text/plain": [
       "1"
      ]
     },
     "execution_count": 231,
     "metadata": {},
     "output_type": "execute_result"
    }
   ],
   "source": [
    "def find_gender_boolean(single_study_inclusion_criteria):\n",
    "    \n",
    "    male_terms = [\"man\", \"men\", \"male\", \"boy\", \"boys\"]\n",
    "    female_terms = [\"woman\", \"women\", \"female\", \"girl\", \"girls\"]\n",
    "    \n",
    "    contains_female_term = False\n",
    "    contains_male_term = False\n",
    "    \n",
    "    male_results = OrderedDict()\n",
    "    female_results = OrderedDict()\n",
    "    \n",
    "    results = OrderedDict({\"male_results\":{}, \"female_results\":{}, \"gender_boolean\":{}})\n",
    "    \n",
    "    for i, criteria in enumerate(single_study_inclusion_criteria.split(\"\\n\")): \n",
    "        male_results[i]  = {\"term\":[], \"start_index\":[]}\n",
    "        female_results[i]  = {\"term\":[], \"start_index\":[]}\n",
    "        \n",
    "        male_results[i][\"term\"] = [male_term for male_term in male_terms]\n",
    "        male_results[i][\"start_index\"] = [criteria.find(male_term) for male_term in male_terms]\n",
    "        \n",
    "        female_results[i][\"term\"] = [female_term for female_term in female_terms]\n",
    "        female_results[i][\"start_index\"] = [criteria.find(female_term) for female_term in female_terms]\n",
    "        \n",
    "        male_results[i][\"male_boolean\"] = 1 if np.max([male_results[i]['start_index']]) >= 0 else 0\n",
    "        female_results[i][\"female_boolean\"] = 1 if np.max([female_results[i]['start_index']]) >= 0 else 0\n",
    " \n",
    "    \n",
    "    contains_male_term = np.any([male_results[x][\"male_boolean\"] for x in male_results.keys()])\n",
    "    contains_female_term = np.any([female_results[x][\"female_boolean\"] for x in female_results.keys()])\n",
    "    any_gender_mention = int(contains_male_term or contains_female_term)\n",
    "    \n",
    "    #return  male_results, female_results, contains_male_term, contains_female_term, any_gender_mention\n",
    "    return  any_gender_mention\n",
    "    \n",
    "\n",
    "any_gender_mention = find_gender_boolean(\"Non-smoking \\n men over the age of 50\")\n",
    "any_gender_mention"
   ]
  },
  {
   "cell_type": "markdown",
   "metadata": {},
   "source": [
    "#### Goal 1: \n",
    "\n",
    "Develop a query and a model for each primitive; output = {0,1} whether the inclusion criteria statement in question mentions (and, by extension, restricts on) the primitive in question. Note that a single clinical trial will generally include > 1 criteria statement. Run against MIMIC. Use either manual review and/or regex-based queries as ground truth to train model(s) on. "
   ]
  },
  {
   "cell_type": "code",
   "execution_count": 238,
   "metadata": {},
   "outputs": [
    {
     "name": "stdout",
     "output_type": "stream",
     "text": [
      "6795\n"
     ]
    },
    {
     "data": {
      "text/html": [
       "<div>\n",
       "<style scoped>\n",
       "    .dataframe tbody tr th:only-of-type {\n",
       "        vertical-align: middle;\n",
       "    }\n",
       "\n",
       "    .dataframe tbody tr th {\n",
       "        vertical-align: top;\n",
       "    }\n",
       "\n",
       "    .dataframe thead th {\n",
       "        text-align: right;\n",
       "    }\n",
       "</style>\n",
       "<table border=\"1\" class=\"dataframe\">\n",
       "  <thead>\n",
       "    <tr style=\"text-align: right;\">\n",
       "      <th></th>\n",
       "      <th>study_id</th>\n",
       "      <th>inclusion</th>\n",
       "      <th>exclusion</th>\n",
       "      <th>gender</th>\n",
       "      <th>age_min</th>\n",
       "      <th>age_max</th>\n",
       "    </tr>\n",
       "  </thead>\n",
       "  <tbody>\n",
       "    <tr>\n",
       "      <th>0</th>\n",
       "      <td>NCT00000105</td>\n",
       "      <td>Inclusion Criteria:\\n          -  Patients mus...</td>\n",
       "      <td>Exclusion Criteria:\\n          -  Pregnant or ...</td>\n",
       "      <td>Both</td>\n",
       "      <td>18 Years</td>\n",
       "      <td>N/A</td>\n",
       "    </tr>\n",
       "    <tr>\n",
       "      <th>1</th>\n",
       "      <td>NCT00000106</td>\n",
       "      <td>Inclusion Criteria:\\n          -  Patients are...</td>\n",
       "      <td></td>\n",
       "      <td>Both</td>\n",
       "      <td>18 Years</td>\n",
       "      <td>65 Years</td>\n",
       "    </tr>\n",
       "    <tr>\n",
       "      <th>2</th>\n",
       "      <td>NCT00000107</td>\n",
       "      <td>Inclusion Criteria:\\n          -  Resting bloo...</td>\n",
       "      <td></td>\n",
       "      <td>Both</td>\n",
       "      <td>17 Years</td>\n",
       "      <td>60 Years</td>\n",
       "    </tr>\n",
       "    <tr>\n",
       "      <th>3</th>\n",
       "      <td>NCT00000108</td>\n",
       "      <td>Inclusion Criteria:\\n          -  Postmenopaus...</td>\n",
       "      <td></td>\n",
       "      <td>Female</td>\n",
       "      <td>50 Years</td>\n",
       "      <td>65 Years</td>\n",
       "    </tr>\n",
       "    <tr>\n",
       "      <th>4</th>\n",
       "      <td>NCT00000102</td>\n",
       "      <td>Inclusion Criteria:\\n          -  diagnosed wi...</td>\n",
       "      <td>Exclusion Criteria:\\n          -  history of l...</td>\n",
       "      <td>Both</td>\n",
       "      <td>14 Years</td>\n",
       "      <td>35 Years</td>\n",
       "    </tr>\n",
       "  </tbody>\n",
       "</table>\n",
       "</div>"
      ],
      "text/plain": [
       "      study_id                                          inclusion  \\\n",
       "0  NCT00000105  Inclusion Criteria:\\n          -  Patients mus...   \n",
       "1  NCT00000106  Inclusion Criteria:\\n          -  Patients are...   \n",
       "2  NCT00000107  Inclusion Criteria:\\n          -  Resting bloo...   \n",
       "3  NCT00000108  Inclusion Criteria:\\n          -  Postmenopaus...   \n",
       "4  NCT00000102  Inclusion Criteria:\\n          -  diagnosed wi...   \n",
       "\n",
       "                                           exclusion  gender   age_min  \\\n",
       "0  Exclusion Criteria:\\n          -  Pregnant or ...    Both  18 Years   \n",
       "1                                                       Both  18 Years   \n",
       "2                                                       Both  17 Years   \n",
       "3                                                     Female  50 Years   \n",
       "4  Exclusion Criteria:\\n          -  history of l...    Both  14 Years   \n",
       "\n",
       "    age_max  \n",
       "0       N/A  \n",
       "1  65 Years  \n",
       "2  60 Years  \n",
       "3  65 Years  \n",
       "4  35 Years  "
      ]
     },
     "execution_count": 238,
     "metadata": {},
     "output_type": "execute_result"
    }
   ],
   "source": [
    "data = read_aact()\n",
    "df = pd.DataFrame(data)\n",
    "df.columns = ['study_id', 'inclusion', 'exclusion', 'gender', 'age_min', 'age_max']\n",
    "df.head()"
   ]
  },
  {
   "cell_type": "code",
   "execution_count": null,
   "metadata": {},
   "outputs": [],
   "source": [
    "# Apply regex-based function\n",
    "df['gender_regex_bool'] = df['inclusion'].apply(lambda x: find_gender(gender_regexes,[criteria for criteria in x.split(\"\\n\")]))\n",
    "df.head()"
   ]
  },
  {
   "cell_type": "code",
   "execution_count": null,
   "metadata": {},
   "outputs": [],
   "source": [
    "# Apply string search-based function\n",
    "df['ic_mentions_gender'] = df['inclusion'].apply(lambda x: find_gender_boolean(x))\n",
    "df.head()"
   ]
  },
  {
   "cell_type": "code",
   "execution_count": null,
   "metadata": {},
   "outputs": [],
   "source": []
  }
 ],
 "metadata": {
  "kernelspec": {
   "display_name": "health_nlp_py35",
   "language": "python",
   "name": "health_nlp_py35"
  },
  "language_info": {
   "codemirror_mode": {
    "name": "ipython",
    "version": 3
   },
   "file_extension": ".py",
   "mimetype": "text/x-python",
   "name": "python",
   "nbconvert_exporter": "python",
   "pygments_lexer": "ipython3",
   "version": "3.5.5"
  }
 },
 "nbformat": 4,
 "nbformat_minor": 2
}

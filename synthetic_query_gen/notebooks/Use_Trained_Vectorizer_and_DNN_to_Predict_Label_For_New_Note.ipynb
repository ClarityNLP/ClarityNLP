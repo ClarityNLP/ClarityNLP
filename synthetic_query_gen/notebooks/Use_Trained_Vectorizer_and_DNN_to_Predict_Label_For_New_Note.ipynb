{
 "cells": [
  {
   "cell_type": "code",
   "execution_count": 1,
   "metadata": {
    "collapsed": true
   },
   "outputs": [],
   "source": [
    "from sklearn.model_selection import cross_validate\n",
    "from sklearn.metrics.scorer import make_scorer\n",
    "from sklearn.metrics import confusion_matrix\n",
    "from sklearn.neural_network import MLPClassifier\n",
    "from imblearn.over_sampling import SMOTE\n",
    "from sklearn.model_selection import train_test_split\n",
    "from sklearn.preprocessing import StandardScaler\n",
    "import sys\n",
    "import pandas as pd\n",
    "import numpy as np\n",
    "import sys\n",
    "from collections import OrderedDict\n",
    "import json\n",
    "import pysolr\n",
    "import sklearn\n",
    "from sklearn.feature_extraction.text import CountVectorizer, TfidfVectorizer\n",
    "import urllib\n",
    "import json\n",
    "import math\n",
    "import pickle\n",
    "from joblib import dump, load\n",
    "from sklearn.model_selection import StratifiedKFold, KFold\n",
    "from sklearn import metrics\n",
    "from sklearn.metrics import accuracy_score"
   ]
  },
  {
   "cell_type": "code",
   "execution_count": 3,
   "metadata": {
    "collapsed": true
   },
   "outputs": [],
   "source": [
    "def generate_note_txt_solr_query(input_ids):\n",
    "    \n",
    "    list_of_ids = [str(x) for x in input_ids['report_id']]\n",
    "    \n",
    "    ids = '\"{}\"\\\\OR\\\\\"'.format(list_of_ids[0])\n",
    "    ids += '\"\\\\OR\\\\\"'.join(list_of_ids[1:])\n",
    "    \n",
    "    q = \"http://18.220.133.76:8983/solr/sample/tvrh?q=report_id:{}&start=0&rows=10000&fl=id,report_text&wt=json\".format(ids)\n",
    "    return q\n",
    "    "
   ]
  },
  {
   "cell_type": "code",
   "execution_count": 4,
   "metadata": {
    "collapsed": true
   },
   "outputs": [],
   "source": [
    "def generate_notes_df(sample_ids):\n",
    "\n",
    "    notes_df = pd.DataFrame(np.zeros([sample_ids.shape[0], 2]), columns=['report_id', 'text'])\n",
    "    solr_query = generate_note_txt_solr_query(sample_ids)\n",
    "\n",
    "    connection = urllib.request.urlopen(\"{}\".format(solr_query))\n",
    "    response = json.load(connection)\n",
    "    \n",
    "    notes_df.loc[:, 'report_id'] = sample_ids['report_id']\n",
    " \n",
    "    for i in range(len(sample_ids['report_id'])):\n",
    "        notes_df.loc[i, 'text'] = response['response']['docs'][i]['report_text']\n",
    "\n",
    "\n",
    "    return notes_df"
   ]
  },
  {
   "cell_type": "code",
   "execution_count": 44,
   "metadata": {
    "collapsed": true
   },
   "outputs": [],
   "source": [
    "def predict_primitive_label(path_to_vectorizer, path_to_models_dir, primitive, new_note_text):\n",
    "\n",
    "    with open(path_to_vectorizer, 'rb') as f:\n",
    "        vectorizer = pickle.load(f)\n",
    "        \n",
    "        new_x =  vectorizer.transform([new_note_text])\n",
    "\n",
    "    with open(\"{}/{}_trained_dnn_smotev2.joblib\".format(path_to_models_dir, primitive), 'rb') as m:\n",
    "        \n",
    "        clf =load(m)\n",
    "        \n",
    "        y_pred = clf.predict(new_x)\n",
    "        print(y_pred)   \n",
    "    "
   ]
  },
  {
   "cell_type": "code",
   "execution_count": 47,
   "metadata": {},
   "outputs": [
    {
     "name": "stdout",
     "output_type": "stream",
     "text": [
      "[0]\n"
     ]
    }
   ],
   "source": [
    "predict_primitive_label(\"./trained_vectorizer.pk\",\"./models\", \"is_female\", \"the patient has hypertension\")"
   ]
  },
  {
   "cell_type": "code",
   "execution_count": null,
   "metadata": {
    "collapsed": true
   },
   "outputs": [],
   "source": []
  }
 ],
 "metadata": {
  "kernelspec": {
   "display_name": "cs8803ice",
   "language": "python",
   "name": "cs8803ice"
  },
  "language_info": {
   "codemirror_mode": {
    "name": "ipython",
    "version": 3
   },
   "file_extension": ".py",
   "mimetype": "text/x-python",
   "name": "python",
   "nbconvert_exporter": "python",
   "pygments_lexer": "ipython3",
   "version": "3.6.2"
  }
 },
 "nbformat": 4,
 "nbformat_minor": 2
}
